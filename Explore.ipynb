{
 "cells": [
  {
   "cell_type": "markdown",
   "id": "f031b505-1603-44f5-aee8-8f91d01249eb",
   "metadata": {},
   "source": [
    "# Initialize environment"
   ]
  },
  {
   "cell_type": "code",
   "execution_count": null,
   "id": "2df75711-1d72-4bc9-ac8b-a912621b698c",
   "metadata": {
    "tags": []
   },
   "outputs": [],
   "source": [
    "import os\n",
    "import sys\n",
    "\n",
    "# Give priority to local packages (not needed in case Robson was installed by pip)\n",
    "sys.path.insert(0, os.path.abspath(os.path.join(os.path.dirname(''), '.')))\n",
    "\n",
    "import macOS_podcasts"
   ]
  },
  {
   "cell_type": "markdown",
   "id": "89cba86d-a4ff-4811-9579-a8a53a30d1dc",
   "metadata": {},
   "source": [
    "# Get access to your Podcasts"
   ]
  },
  {
   "cell_type": "code",
   "execution_count": null,
   "id": "52e5bd39-3f39-4f89-9684-a326b27fa83d",
   "metadata": {
    "tags": []
   },
   "outputs": [],
   "source": [
    "p=macOS_podcasts.PodcastsFromMacOS()"
   ]
  },
  {
   "cell_type": "markdown",
   "id": "303cf227-7a09-4b11-bfdc-f129968a8bb9",
   "metadata": {},
   "source": [
    "# Show your Podcasts"
   ]
  },
  {
   "cell_type": "code",
   "execution_count": null,
   "id": "5beb87e3-760c-49bf-a661-4a16ec19c171",
   "metadata": {
    "tags": []
   },
   "outputs": [],
   "source": [
    "p.podcasts"
   ]
  },
  {
   "cell_type": "markdown",
   "id": "cefab869-0e4e-493d-85bf-58b6f00eb935",
   "metadata": {},
   "source": [
    "# Export to one OPML file grouping by `station`s\n",
    "Try also to group by `apple_category` or `author`.\n",
    "\n",
    "If you want express groups in multiple files, use `trees=True`."
   ]
  },
  {
   "cell_type": "code",
   "execution_count": null,
   "id": "d3c23959-34db-4845-ad0e-1e8cd750b779",
   "metadata": {
    "tags": []
   },
   "outputs": [],
   "source": [
    "p.export(p.opml(group='station',trees=False))"
   ]
  },
  {
   "cell_type": "markdown",
   "id": "8e64c9e4-6ba4-4ae3-9ddb-52fc164eec05",
   "metadata": {},
   "source": [
    "# In the command line\n",
    "\n",
    "Use it as a command in your macOS terminal with Apple’s Python 3 (get it installed with command `xcode-select --install`) as:\n",
    "\n",
    "```shell\n",
    "python3 -m macOS_podcasts -g station --target $HOME --prefix my-podcasts\n",
    "```\n",
    "\n",
    "Or simply:\n",
    "\n",
    "```shell\n",
    "python3 -m macOS_podcasts\n",
    "```\n",
    "\n",
    "## Extended help\n",
    "\n",
    "```\n",
    "usage: macOS_podcasts [-h] [--db PODCASTS_DB] [-g GROUP] [--trees | --no-trees] [--target TARGET] [--prefix PREFIX]\n",
    "\n",
    "Export macOS Podcasts to OPML\n",
    "\n",
    "optional arguments:\n",
    "  -h, --help            show this help message and exit\n",
    "  --db PODCASTS_DB      Path to Podcasts app database.\n",
    "  -g GROUP, --group GROUP\n",
    "                        Group podcasts in the outline by station, author or apple_category. Defaults to apple_category.\n",
    "  --trees, --no-trees   Export to one hierarchical file (default), or to one file per group. (default: False)\n",
    "  --target TARGET       Target folder for exported OPML files. Default is current folder.\n",
    "  --prefix PREFIX       File name prefix for each OPML file. Default is «macOS-Podcasts»\n",
    "```"
   ]
  },
  {
   "cell_type": "code",
   "execution_count": null,
   "id": "99885e6d-5f6c-4f62-9544-30ff44c31801",
   "metadata": {},
   "outputs": [],
   "source": []
  }
 ],
 "metadata": {
  "kernelspec": {
   "display_name": "Python 3 (ipykernel)",
   "language": "python",
   "name": "python3"
  },
  "language_info": {
   "codemirror_mode": {
    "name": "ipython",
    "version": 3
   },
   "file_extension": ".py",
   "mimetype": "text/x-python",
   "name": "python",
   "nbconvert_exporter": "python",
   "pygments_lexer": "ipython3",
   "version": "3.9.9"
  }
 },
 "nbformat": 4,
 "nbformat_minor": 5
}
